{
  "nbformat": 4,
  "nbformat_minor": 0,
  "metadata": {
    "colab": {
      "name": "GameAnalysis.ipynb",
      "provenance": [],
      "collapsed_sections": [],
      "include_colab_link": true
    },
    "kernelspec": {
      "name": "python3",
      "display_name": "Python 3"
    },
    "language_info": {
      "name": "python"
    }
  },
  "cells": [
    {
      "cell_type": "markdown",
      "metadata": {
        "id": "view-in-github",
        "colab_type": "text"
      },
      "source": [
        "<a href=\"https://colab.research.google.com/github/leandroromano/videogamesanalysis/blob/main/GameAnalysis.ipynb\" target=\"_parent\"><img src=\"https://colab.research.google.com/assets/colab-badge.svg\" alt=\"Open In Colab\"/></a>"
      ]
    },
    {
      "cell_type": "code",
      "metadata": {
        "colab": {
          "base_uri": "https://localhost:8080/"
        },
        "id": "XtMxTpsEIaWI",
        "outputId": "7de1e43b-47f1-46b4-b73c-4930160d854c"
      },
      "source": [
        "# Import PyDrive and associated libraries.\n",
        "# This only needs to be done once per notebook.\n",
        "from pydrive.auth import GoogleAuth\n",
        "from pydrive.drive import GoogleDrive\n",
        "from google.colab import auth\n",
        "from oauth2client.client import GoogleCredentials\n",
        "import pandas as pd\n",
        "import datetime\n",
        "import numpy as np\n",
        "\n",
        "\n",
        "# Authenticate and create the PyDrive client.\n",
        "# This only needs to be done once per notebook.\n",
        "auth.authenticate_user()\n",
        "gauth = GoogleAuth()\n",
        "gauth.credentials = GoogleCredentials.get_application_default()\n",
        "drive = GoogleDrive(gauth)\n",
        "\n",
        "def zero_padding(table, platform_used, start_year, final_year):\n",
        "  for year in range(start_year, final_year):\n",
        "    if datetime.datetime(year, 1, 1) not in table.index:\n",
        "      table.at[datetime.datetime(year, 1, 1), 'Platform'] = 0\n",
        "      table.at[datetime.datetime(year, 1, 1), 'Platform_Used'] = platform_used\n",
        "\n",
        "\n",
        "# Download a file based on its file ID.\n",
        "#\n",
        "# A file ID looks like: 1uUgj9Ao-5lCUUB3iCQiCr1AO4qPYgKD1\n",
        "# https://drive.google.com/file/d/1uUgj9Ao-5lCUUB3iCQiCr1AO4qPYgKD1/view?usp=sharing\n",
        "file_id = '1uUgj9Ao-5lCUUB3iCQiCr1AO4qPYgKD1'\n",
        "downloaded = drive.CreateFile({'id': file_id})\n",
        "downloaded.GetContentFile('Video_Games.csv')\n",
        "df3 = pd.read_csv('Video_Games.csv', parse_dates=['Year_of_Release'])\n",
        "platforms = df3['Platform'].unique()\n",
        "print(platforms)\n",
        "frames = []\n",
        "for platform in platforms:\n",
        "  is_platform = df3['Platform'] == 'platform'\n",
        "  platform_table = df3[is_platform][['Platform', 'Year_of_Release']]\n",
        "  count_table = platform_table.groupby('Year_of_Release').count()\n",
        "  count_table['Platform_Used'] = platform\n",
        "  zero_padding(count_table, platform, 1980, 2017)\n",
        "  count_table = count_table.sort_index()\n",
        "  frames.append(count_table)\n"
      ],
      "execution_count": null,
      "outputs": [
        {
          "output_type": "stream",
          "text": [
            "['Wii' 'NES' 'GB' 'DS' 'X360' 'PS3' 'PS2' 'SNES' 'GBA' 'PS4' '3DS' 'N64'\n",
            " 'PS' 'XB' 'PC' '2600' 'PSP' 'XOne' 'WiiU' 'GC' 'GEN' 'DC' 'PSV' 'SAT'\n",
            " 'SCD' 'WS' 'NG' 'TG16' '3DO' 'GG' 'PCFX']\n"
          ],
          "name": "stdout"
        }
      ]
    },
    {
      "cell_type": "code",
      "metadata": {
        "id": "7ZwL6mUSdmWY",
        "colab": {
          "base_uri": "https://localhost:8080/",
          "height": 292
        },
        "outputId": "2fda26ea-22d4-4679-ce6e-09e4b5607316"
      },
      "source": [
        "df3.head()"
      ],
      "execution_count": null,
      "outputs": [
        {
          "output_type": "execute_result",
          "data": {
            "text/html": [
              "<div>\n",
              "<style scoped>\n",
              "    .dataframe tbody tr th:only-of-type {\n",
              "        vertical-align: middle;\n",
              "    }\n",
              "\n",
              "    .dataframe tbody tr th {\n",
              "        vertical-align: top;\n",
              "    }\n",
              "\n",
              "    .dataframe thead th {\n",
              "        text-align: right;\n",
              "    }\n",
              "</style>\n",
              "<table border=\"1\" class=\"dataframe\">\n",
              "  <thead>\n",
              "    <tr style=\"text-align: right;\">\n",
              "      <th></th>\n",
              "      <th>Name</th>\n",
              "      <th>Platform</th>\n",
              "      <th>Year_of_Release</th>\n",
              "      <th>Genre</th>\n",
              "      <th>Publisher</th>\n",
              "      <th>NA_Sales</th>\n",
              "      <th>EU_Sales</th>\n",
              "      <th>JP_Sales</th>\n",
              "      <th>Other_Sales</th>\n",
              "      <th>Global_Sales</th>\n",
              "      <th>Critic_Score</th>\n",
              "      <th>Critic_Count</th>\n",
              "      <th>User_Score</th>\n",
              "      <th>User_Count</th>\n",
              "      <th>Developer</th>\n",
              "      <th>Rating</th>\n",
              "    </tr>\n",
              "  </thead>\n",
              "  <tbody>\n",
              "    <tr>\n",
              "      <th>0</th>\n",
              "      <td>Wii Sports</td>\n",
              "      <td>Wii</td>\n",
              "      <td>2006-01-01</td>\n",
              "      <td>Sports</td>\n",
              "      <td>Nintendo</td>\n",
              "      <td>41.36</td>\n",
              "      <td>28.96</td>\n",
              "      <td>3.77</td>\n",
              "      <td>8.45</td>\n",
              "      <td>82.53</td>\n",
              "      <td>76.0</td>\n",
              "      <td>51.0</td>\n",
              "      <td>8</td>\n",
              "      <td>322.0</td>\n",
              "      <td>Nintendo</td>\n",
              "      <td>E</td>\n",
              "    </tr>\n",
              "    <tr>\n",
              "      <th>1</th>\n",
              "      <td>Super Mario Bros.</td>\n",
              "      <td>NES</td>\n",
              "      <td>1985-01-01</td>\n",
              "      <td>Platform</td>\n",
              "      <td>Nintendo</td>\n",
              "      <td>29.08</td>\n",
              "      <td>3.58</td>\n",
              "      <td>6.81</td>\n",
              "      <td>0.77</td>\n",
              "      <td>40.24</td>\n",
              "      <td>NaN</td>\n",
              "      <td>NaN</td>\n",
              "      <td>NaN</td>\n",
              "      <td>NaN</td>\n",
              "      <td>NaN</td>\n",
              "      <td>NaN</td>\n",
              "    </tr>\n",
              "    <tr>\n",
              "      <th>2</th>\n",
              "      <td>Mario Kart Wii</td>\n",
              "      <td>Wii</td>\n",
              "      <td>2008-01-01</td>\n",
              "      <td>Racing</td>\n",
              "      <td>Nintendo</td>\n",
              "      <td>15.68</td>\n",
              "      <td>12.76</td>\n",
              "      <td>3.79</td>\n",
              "      <td>3.29</td>\n",
              "      <td>35.52</td>\n",
              "      <td>82.0</td>\n",
              "      <td>73.0</td>\n",
              "      <td>8.3</td>\n",
              "      <td>709.0</td>\n",
              "      <td>Nintendo</td>\n",
              "      <td>E</td>\n",
              "    </tr>\n",
              "    <tr>\n",
              "      <th>3</th>\n",
              "      <td>Wii Sports Resort</td>\n",
              "      <td>Wii</td>\n",
              "      <td>2009-01-01</td>\n",
              "      <td>Sports</td>\n",
              "      <td>Nintendo</td>\n",
              "      <td>15.61</td>\n",
              "      <td>10.93</td>\n",
              "      <td>3.28</td>\n",
              "      <td>2.95</td>\n",
              "      <td>32.77</td>\n",
              "      <td>80.0</td>\n",
              "      <td>73.0</td>\n",
              "      <td>8</td>\n",
              "      <td>192.0</td>\n",
              "      <td>Nintendo</td>\n",
              "      <td>E</td>\n",
              "    </tr>\n",
              "    <tr>\n",
              "      <th>4</th>\n",
              "      <td>Pokemon Red/Pokemon Blue</td>\n",
              "      <td>GB</td>\n",
              "      <td>1996-01-01</td>\n",
              "      <td>Role-Playing</td>\n",
              "      <td>Nintendo</td>\n",
              "      <td>11.27</td>\n",
              "      <td>8.89</td>\n",
              "      <td>10.22</td>\n",
              "      <td>1.00</td>\n",
              "      <td>31.37</td>\n",
              "      <td>NaN</td>\n",
              "      <td>NaN</td>\n",
              "      <td>NaN</td>\n",
              "      <td>NaN</td>\n",
              "      <td>NaN</td>\n",
              "      <td>NaN</td>\n",
              "    </tr>\n",
              "  </tbody>\n",
              "</table>\n",
              "</div>"
            ],
            "text/plain": [
              "                       Name Platform  ... Developer Rating\n",
              "0                Wii Sports      Wii  ...  Nintendo      E\n",
              "1         Super Mario Bros.      NES  ...       NaN    NaN\n",
              "2            Mario Kart Wii      Wii  ...  Nintendo      E\n",
              "3         Wii Sports Resort      Wii  ...  Nintendo      E\n",
              "4  Pokemon Red/Pokemon Blue       GB  ...       NaN    NaN\n",
              "\n",
              "[5 rows x 16 columns]"
            ]
          },
          "metadata": {
            "tags": []
          },
          "execution_count": 2
        }
      ]
    },
    {
      "cell_type": "code",
      "metadata": {
        "id": "-JaYbUJWGc4u",
        "colab": {
          "base_uri": "https://localhost:8080/",
          "height": 1000
        },
        "outputId": "0640d3b8-358d-48fc-ba94-f30758961386"
      },
      "source": [
        "joined_dataframes = pd.concat(frames)\n",
        "# joined_dataframes = joined_dataframes.set_index('Year_of_Release')\n",
        "joined_dataframes.groupby('Platform_Used')['Platform'].plot(legend=True, figsize=(20,20))"
      ],
      "execution_count": null,
      "outputs": [
        {
          "output_type": "execute_result",
          "data": {
            "text/plain": [
              "Platform_Used\n",
              "2600    AxesSubplot(0.125,0.125;0.775x0.755)\n",
              "3DO     AxesSubplot(0.125,0.125;0.775x0.755)\n",
              "3DS     AxesSubplot(0.125,0.125;0.775x0.755)\n",
              "DC      AxesSubplot(0.125,0.125;0.775x0.755)\n",
              "DS      AxesSubplot(0.125,0.125;0.775x0.755)\n",
              "GB      AxesSubplot(0.125,0.125;0.775x0.755)\n",
              "GBA     AxesSubplot(0.125,0.125;0.775x0.755)\n",
              "GC      AxesSubplot(0.125,0.125;0.775x0.755)\n",
              "GEN     AxesSubplot(0.125,0.125;0.775x0.755)\n",
              "GG      AxesSubplot(0.125,0.125;0.775x0.755)\n",
              "N64     AxesSubplot(0.125,0.125;0.775x0.755)\n",
              "NES     AxesSubplot(0.125,0.125;0.775x0.755)\n",
              "NG      AxesSubplot(0.125,0.125;0.775x0.755)\n",
              "PC      AxesSubplot(0.125,0.125;0.775x0.755)\n",
              "PCFX    AxesSubplot(0.125,0.125;0.775x0.755)\n",
              "PS      AxesSubplot(0.125,0.125;0.775x0.755)\n",
              "PS2     AxesSubplot(0.125,0.125;0.775x0.755)\n",
              "PS3     AxesSubplot(0.125,0.125;0.775x0.755)\n",
              "PS4     AxesSubplot(0.125,0.125;0.775x0.755)\n",
              "PSP     AxesSubplot(0.125,0.125;0.775x0.755)\n",
              "PSV     AxesSubplot(0.125,0.125;0.775x0.755)\n",
              "SAT     AxesSubplot(0.125,0.125;0.775x0.755)\n",
              "SCD     AxesSubplot(0.125,0.125;0.775x0.755)\n",
              "SNES    AxesSubplot(0.125,0.125;0.775x0.755)\n",
              "TG16    AxesSubplot(0.125,0.125;0.775x0.755)\n",
              "WS      AxesSubplot(0.125,0.125;0.775x0.755)\n",
              "Wii     AxesSubplot(0.125,0.125;0.775x0.755)\n",
              "WiiU    AxesSubplot(0.125,0.125;0.775x0.755)\n",
              "X360    AxesSubplot(0.125,0.125;0.775x0.755)\n",
              "XB      AxesSubplot(0.125,0.125;0.775x0.755)\n",
              "XOne    AxesSubplot(0.125,0.125;0.775x0.755)\n",
              "Name: Platform, dtype: object"
            ]
          },
          "metadata": {
            "tags": []
          },
          "execution_count": 3
        },
        {
          "output_type": "display_data",
          "data": {
            "image/png": "[encoded data removed]",
            "text/plain": [
              "<Figure size 1440x1440 with 1 Axes>"
            ]
          },
          "metadata": {
            "tags": [],
            "needs_background": "light"
          }
        }
      ]
    },
    {
      "cell_type": "code",
      "metadata": {
        "id": "MOC36gwxR8sR",
        "colab": {
          "base_uri": "https://localhost:8080/"
        },
        "outputId": "81706a31-e66c-4404-87dd-2280583ab04b"
      },
      "source": [
        "df3.columns"
      ],
      "execution_count": null,
      "outputs": [
        {
          "output_type": "execute_result",
          "data": {
            "text/plain": [
              "Index(['Name', 'Platform', 'Year_of_Release', 'Genre', 'Publisher', 'NA_Sales',\n",
              "       'EU_Sales', 'JP_Sales', 'Other_Sales', 'Global_Sales', 'Critic_Score',\n",
              "       'Critic_Count', 'User_Score', 'User_Count', 'Developer', 'Rating'],\n",
              "      dtype='object')"
            ]
          },
          "metadata": {
            "tags": []
          },
          "execution_count": 4
        }
      ]
    },
    {
      "cell_type": "code",
      "metadata": {
        "id": "t-RzNCMzaFFT"
      },
      "source": [
        ""
      ],
      "execution_count": null,
      "outputs": []
    },
    {
      "cell_type": "code",
      "metadata": {
        "colab": {
          "base_uri": "https://localhost:8080/",
          "height": 297
        },
        "id": "6LNEpgHtX0gv",
        "outputId": "8fe4c418-1d5a-4c8c-e10f-177e694621c8"
      },
      "source": [
        "grouped_dataframes = joined_dataframes.groupby('Platform_Used')\n",
        "wii_releases_yearly = joined_dataframes[joined_dataframes.Platform_Used == 'Wii']\n",
        "\n",
        "wii_releases_monthly = wii_releases_yearly.resample('M').bfill()\n",
        "wii_releases_monthly.plot()"
      ],
      "execution_count": null,
      "outputs": [
        {
          "output_type": "execute_result",
          "data": {
            "text/plain": [
              "<matplotlib.axes._subplots.AxesSubplot at 0x7f8eedb8a790>"
            ]
          },
          "metadata": {
            "tags": []
          },
          "execution_count": 5
        },
        {
          "output_type": "display_data",
          "data": {
            "image/png": "[encoded data removed]",
            "text/plain": [
              "<Figure size 432x288 with 1 Axes>"
            ]
          },
          "metadata": {
            "tags": [],
            "needs_background": "light"
          }
        }
      ]
    },
    {
      "cell_type": "code",
      "metadata": {
        "colab": {
          "base_uri": "https://localhost:8080/",
          "height": 560
        },
        "id": "naEU68Ysj6wT",
        "outputId": "e9a85363-2bc8-4cae-ee2c-c3e5a637e398"
      },
      "source": [
        "ps3_releases_yearly = joined_dataframes[joined_dataframes.Platform_Used == 'PS3']\n",
        "\n",
        "ps3_releases_yearly.plot()\n",
        "wii_releases_yearly.plot()\n"
      ],
      "execution_count": null,
      "outputs": [
        {
          "output_type": "execute_result",
          "data": {
            "text/plain": [
              "<matplotlib.axes._subplots.AxesSubplot at 0x7f8eecfb9b90>"
            ]
          },
          "metadata": {
            "tags": []
          },
          "execution_count": 6
        },
        {
          "output_type": "display_data",
          "data": {
            "image/png": "[encoded data removed]",
            "text/plain": [
              "<Figure size 432x288 with 1 Axes>"
            ]
          },
          "metadata": {
            "tags": [],
            "needs_background": "light"
          }
        },
        {
          "output_type": "display_data",
          "data": {
            "image/png": "[encoded data removed]",
            "text/plain": [
              "<Figure size 432x288 with 1 Axes>"
            ]
          },
          "metadata": {
            "tags": [],
            "needs_background": "light"
          }
        }
      ]
    },
    {
      "cell_type": "code",
      "metadata": {
        "colab": {
          "base_uri": "https://localhost:8080/",
          "height": 282
        },
        "id": "sdrFlEPf4DuL",
        "outputId": "c2d3ac65-7053-47de-ed7d-14aaff12d6e9"
      },
      "source": [
        "wii_ps3_convolution = np.convolve(wii_releases_yearly['Platform'].to_numpy(), ps3_releases_yearly['Platform'].to_numpy(), mode = 'same')\n",
        "\n",
        "import matplotlib.pyplot as plt\n",
        "\n",
        "plt.plot(np.arange(37), wii_ps3_convolution)\n",
        "plt.plot(np.arange(37), wii_releases_yearly['Platform'].to_numpy())"
      ],
      "execution_count": null,
      "outputs": [
        {
          "output_type": "execute_result",
          "data": {
            "text/plain": [
              "[<matplotlib.lines.Line2D at 0x7f8eece6efd0>]"
            ]
          },
          "metadata": {
            "tags": []
          },
          "execution_count": 7
        },
        {
          "output_type": "display_data",
          "data": {
            "image/png": "[encoded data removed]",
            "text/plain": [
              "<Figure size 432x288 with 1 Axes>"
            ]
          },
          "metadata": {
            "tags": [],
            "needs_background": "light"
          }
        }
      ]
    },
    {
      "cell_type": "code",
      "metadata": {
        "colab": {
          "base_uri": "https://localhost:8080/",
          "height": 282
        },
        "id": "CoiaL9_36h2d",
        "outputId": "96dd0851-bfc5-465c-f25e-4672a16d05bd"
      },
      "source": [
        "wii_ps3_correlation = np.correlate(ps3_releases_yearly['Platform'].to_numpy(), wii_releases_yearly['Platform'].to_numpy(), mode = 'same')\n",
        "\n",
        "plt.plot(np.arange(37), wii_ps3_correlation)"
      ],
      "execution_count": null,
      "outputs": [
        {
          "output_type": "execute_result",
          "data": {
            "text/plain": [
              "[<matplotlib.lines.Line2D at 0x7f8eecde0c10>]"
            ]
          },
          "metadata": {
            "tags": []
          },
          "execution_count": 8
        },
        {
          "output_type": "display_data",
          "data": {
            "image/png": "[encoded data removed]",
            "text/plain": [
              "<Figure size 432x288 with 1 Axes>"
            ]
          },
          "metadata": {
            "tags": [],
            "needs_background": "light"
          }
        }
      ]
    },
    {
      "cell_type": "code",
      "metadata": {
        "colab": {
          "base_uri": "https://localhost:8080/",
          "height": 111
        },
        "id": "ldLvvwE__bJ1",
        "outputId": "b0593bd3-56e2-45b5-b15b-9e5b3c962a43"
      },
      "source": [
        "combined = wii_releases_yearly.assign(ps3=ps3_releases_yearly['Platform'])\n",
        "\n",
        "combined[['Platform', 'ps3']].corr()\n",
        "\n",
        "\n",
        "\n",
        "# pd.DataFrame({ 'ps3_releases_yearly': ps3_releases_yearly['Platform'] })"
      ],
      "execution_count": null,
      "outputs": [
        {
          "output_type": "execute_result",
          "data": {
            "text/html": [
              "<div>\n",
              "<style scoped>\n",
              "    .dataframe tbody tr th:only-of-type {\n",
              "        vertical-align: middle;\n",
              "    }\n",
              "\n",
              "    .dataframe tbody tr th {\n",
              "        vertical-align: top;\n",
              "    }\n",
              "\n",
              "    .dataframe thead th {\n",
              "        text-align: right;\n",
              "    }\n",
              "</style>\n",
              "<table border=\"1\" class=\"dataframe\">\n",
              "  <thead>\n",
              "    <tr style=\"text-align: right;\">\n",
              "      <th></th>\n",
              "      <th>Platform</th>\n",
              "      <th>ps3</th>\n",
              "    </tr>\n",
              "  </thead>\n",
              "  <tbody>\n",
              "    <tr>\n",
              "      <th>Platform</th>\n",
              "      <td>NaN</td>\n",
              "      <td>NaN</td>\n",
              "    </tr>\n",
              "    <tr>\n",
              "      <th>ps3</th>\n",
              "      <td>NaN</td>\n",
              "      <td>NaN</td>\n",
              "    </tr>\n",
              "  </tbody>\n",
              "</table>\n",
              "</div>"
            ],
            "text/plain": [
              "          Platform  ps3\n",
              "Platform       NaN  NaN\n",
              "ps3            NaN  NaN"
            ]
          },
          "metadata": {
            "tags": []
          },
          "execution_count": 9
        }
      ]
    },
    {
      "cell_type": "code",
      "metadata": {
        "colab": {
          "base_uri": "https://localhost:8080/",
          "height": 282
        },
        "id": "O74LotrJmIOz",
        "outputId": "1523583d-8d0f-4233-c5f9-c1dfaa058f0e"
      },
      "source": [
        "from scipy import signal\n",
        "\n",
        "# plt.plot(np.arange(73), signal.correlate(ps3_releases_yearly['Platform'].to_numpy(), ps3_releases_yearly['Platform'].to_numpy(), mode='same', method = 'direct'))\n",
        "wii_releases_monthly = signal.resample(wii_releases_yearly['Platform'].to_numpy(), 444)\n",
        "plt.plot(np.arange(444), wii_releases_monthly)"
      ],
      "execution_count": null,
      "outputs": [
        {
          "output_type": "execute_result",
          "data": {
            "text/plain": [
              "[<matplotlib.lines.Line2D at 0x7f8ede6be850>]"
            ]
          },
          "metadata": {
            "tags": []
          },
          "execution_count": 10
        },
        {
          "output_type": "display_data",
          "data": {
            "image/png": "[encoded data removed]",
            "text/plain": [
              "<Figure size 432x288 with 1 Axes>"
            ]
          },
          "metadata": {
            "tags": [],
            "needs_background": "light"
          }
        }
      ]
    },
    {
      "cell_type": "code",
      "metadata": {
        "id": "9QvB0FXl3GSM"
      },
      "source": [
        "def zero_padding_publisher(table, publisher_creator, start_year, final_year):\n",
        "  for year in range(start_year, final_year):\n",
        "    if datetime.datetime(year, 1, 1) not in table.index:\n",
        "      table.at[datetime.datetime(year, 1, 1), 'Publisher'] = 0\n",
        "      table.at[datetime.datetime(year, 1, 1), 'Publisher_Creator'] = publisher_creator\n",
        "\n"
      ],
      "execution_count": null,
      "outputs": []
    },
    {
      "cell_type": "code",
      "metadata": {
        "colab": {
          "base_uri": "https://localhost:8080/"
        },
        "id": "ytM98g6lp3i0",
        "outputId": "c5bc0549-3d0b-4222-90e4-a5025ff281fb"
      },
      "source": [
        "df4 = pd.read_csv('Video_Games.csv', parse_dates=['Year_of_Release'])\n",
        "publishers = df4['Publisher'].unique()\n",
        "print(publishers)\n",
        "publisher_frames = []\n",
        "total_releases_frames = []\n",
        "for publisher in publishers:\n",
        "  is_publisher = df4['Publisher'] == publisher\n",
        "  publisher_table = df4[is_publisher][['Publisher', 'Year_of_Release']]\n",
        "  count_table_publisher = publisher_table.groupby('Year_of_Release').count()\n",
        "  total_releases_table_publisher = publisher_table.groupby('Publisher').count()\n",
        "  count_table_publisher['Publisher_Creator'] = publisher\n",
        "  zero_padding_publisher(count_table_publisher, publisher, 1980, 2020)\n",
        "  count_table_publisher = count_table_publisher.sort_index()\n",
        "  publisher_frames.append(count_table_publisher)\n",
        "  total_releases_frames.append(total_releases_table_publisher)\n"
      ],
      "execution_count": null,
      "outputs": [
        {
          "output_type": "stream",
          "text": [
            "['Nintendo' 'Microsoft Game Studios' 'Take-Two Interactive'\n",
            " 'Sony Computer Entertainment' 'Activision' 'Ubisoft' 'Bethesda Softworks'\n",
            " 'Electronic Arts' 'Sega' 'SquareSoft' 'Atari' '505 Games' 'Capcom'\n",
            " 'GT Interactive' 'Konami Digital Entertainment' 'Square Enix'\n",
            " 'Sony Computer Entertainment Europe' 'Virgin Interactive' 'LucasArts'\n",
            " 'Warner Bros. Interactive Entertainment' 'Universal Interactive'\n",
            " 'Eidos Interactive' 'RedOctane' 'Vivendi Games' 'Enix Corporation'\n",
            " 'Namco Bandai Games' 'Palcom' 'Hasbro Interactive' 'THQ'\n",
            " 'Fox Interactive' 'Acclaim Entertainment' 'MTV Games'\n",
            " 'Disney Interactive Studios' nan 'Codemasters' 'Majesco Entertainment'\n",
            " 'Red Orb' 'Level 5' 'Arena Entertainment' 'Midway Games' 'JVC'\n",
            " 'Deep Silver' 'NCSoft' '989 Studios' 'UEP Systems' 'Parker Bros.' 'Maxis'\n",
            " 'Imagic' 'Tecmo Koei' 'ASCII Entertainment' 'Valve Software' 'Mindscape'\n",
            " 'Infogrames' 'Unknown' 'Square' 'Valve' 'Banpresto' 'Hello Games'\n",
            " 'D3Publisher' 'Activision Value' 'Oxygen Interactive'\n",
            " 'Red Storm Entertainment' 'Video System' 'Global Star' 'Gotham Games'\n",
            " 'Westwood Studios' 'GungHo' 'Crave Entertainment' 'Hudson Soft' 'Coleco'\n",
            " 'Rising Star Games' 'TDK Mediactive' 'ASC Games' 'Accolade' 'Zoo Games'\n",
            " 'Sony Online Entertainment' '3DO' 'Natsume' 'RTL' 'Alchemist'\n",
            " 'Black Label Games' 'SouthPeak Games' 'Focus Home Interactive' 'Ocean'\n",
            " 'Zoo Digital Publishing' 'Psygnosis' 'City Interactive'\n",
            " 'Empire Interactive' 'Success' 'Compile' 'Russel' 'Atlus' 'Mastertronic'\n",
            " 'Slightly Mad Studios' 'Taito' 'Agetec' 'Microprose' 'Play It' 'GSP'\n",
            " 'Tomy Corporation' 'Sammy Corporation' 'Koch Media' 'Game Factory'\n",
            " 'Titus' 'Marvelous Entertainment' 'Genki' 'Mojang' 'CTO SpA' 'TalonSoft'\n",
            " 'Crystal Dynamics' 'Square Enix ' 'mixi, Inc' 'Pinnacle' 'SCi' 'Quelle'\n",
            " 'Rage Software' 'Ubisoft Annecy' 'Interplay' 'Scholastic Inc.' 'Mystique'\n",
            " 'ChunSoft' 'Square EA' '20th Century Fox Video Games'\n",
            " 'Hudson Entertainment' 'Men-A-Vision' 'Nobilis' 'Avanquest Software'\n",
            " 'Big Ben Interactive' 'Nordic Games' 'Touchstone' 'Spike'\n",
            " 'Nippon Ichi Software' 'Sony Computer Entertainment America'\n",
            " 'Jester Interactive' 'LEGO Media' 'Quest' 'Illusion Softworks'\n",
            " 'Tigervision' 'Rocket Company' 'Metro 3D' 'Mattel Interactive'\n",
            " 'IE Institute' 'Funbox Media' 'Rondomedia' 'Universal Gamex' 'Ghostlight'\n",
            " 'Wizard Video Games' 'BMG Interactive Entertainment' 'PQube'\n",
            " 'Trion Worlds' 'Xseed Games' 'Laguna' 'Takara' 'Ignition Entertainment'\n",
            " 'Kadokawa Shoten' 'Enterbrain' 'Imagineer' 'CPG Products'\n",
            " 'System 3 Arcade Software' 'Aruze Corp' 'Destineer' 'Gamebridge'\n",
            " 'Midas Interactive Entertainment' 'Jaleco' 'Answer Software'\n",
            " 'Pack In Soft' 'XS Games' 'Rebellion' 'Ultravision'\n",
            " 'Harmonix Music Systems' 'Activision Blizzard' 'Xplosiv' 'Wanadoo'\n",
            " 'Telltale Games' 'NovaLogic' 'Epoch' 'BAM! Entertainment'\n",
            " 'GameMill Entertainment' 'Knowledge Adventure' 'Tetris Online' 'Mastiff'\n",
            " 'ESP' 'TYO' 'Telegames' 'Mud Duck Productions' 'Screenlife' 'Pioneer LDC'\n",
            " 'Magical Company' 'Kemco' 'Mentor Interactive' 'Human Entertainment'\n",
            " 'Data Age' 'Electronic Arts Victor' 'Jack of All Games' 'Avanquest'\n",
            " 'Black Bean Games' '989 Sports' 'Takara Tomy' 'Media Rings' 'Elf'\n",
            " 'Starfish' 'Zushi Games' 'Jorudan' 'Destination Software, Inc' 'New'\n",
            " 'Brash Entertainment' 'Kalypso Media' 'ITT Family Games' 'Ackkstudios'\n",
            " 'PopCap Games' 'Starpath Corp.' 'BPS' 'Gathering of Developers'\n",
            " 'NewKidCo' 'Marvelous Interactive' 'Storm City Games' 'CokeM Interactive'\n",
            " 'P2 Games' 'CBS Electronics' 'Home Entertainment Suppliers' 'Magix'\n",
            " 'Arc System Works' 'Angel Studios' 'Wargaming.net' 'Playmates'\n",
            " 'SNK Playmore' 'Hamster Corporation' 'From Software' 'Nippon Columbia'\n",
            " 'Nichibutsu' 'Conspiracy Entertainment' 'Hect' 'Mumbo Jumbo'\n",
            " 'DTP Entertainment' 'Pacific Century Cyber Works' 'Indie Games'\n",
            " 'Liquid Games' 'NEC' 'Axela' 'ArtDink' 'Sunsoft' 'Little Orbit' 'FuRyu'\n",
            " 'Gust' 'SNK' 'NEC Interchannel' 'Nihon Falcom Corporation'\n",
            " 'Xing Entertainment' 'ValuSoft' 'Victor Interactive' 'American Softworks'\n",
            " 'Falcom Corporation' 'Detn8 Games' 'Bomb' 'Nordcurrent'\n",
            " 'Milestone S.r.l.' 'AQ Interactive' 'Sears' 'Seta Corporation'\n",
            " 'On Demand' 'CCP' 'NCS' 'Rebellion Developments' 'Agatsuma Entertainment'\n",
            " 'Gremlin Interactive Ltd' 'Aspyr' 'Compile Heart' 'Culture Brain'\n",
            " 'Mad Catz' 'Shogakukan' 'Merscom LLC' 'JoWood Productions'\n",
            " 'Nippon Telenet' 'TDK Core' 'Kadokawa Games' 'SSI' 'Foreign Media Games'\n",
            " 'Core Design Ltd.' 'bitComposer Games' 'Astragon' 'Asylum Entertainment'\n",
            " 'Performance Designed Products' 'UFO Interactive' 'Essential Games'\n",
            " 'Adeline Software' 'Funcom' 'PlayV' 'Panther Software'\n",
            " 'Blast! Entertainment Ltd' 'Playlogic Game Factory' 'DSI Games'\n",
            " 'Avalon Interactive' 'Game Life' 'Popcorn Arcade' 'Aques' 'System 3'\n",
            " 'Syscom' 'Vir2L Studios' 'Vatical Entertainment' 'Neko Entertainment'\n",
            " 'White Park Bay Software' 'Vic Tokai' 'Media Factory' 'Daedalic'\n",
            " 'Game Arts' 'The Adventure Company' 'EA Games' 'Acquire' 'Broccoli'\n",
            " 'General Entertainment' 'Paradox Interactive' 'Yacht Club Games' 'Imadio'\n",
            " 'Swing! Entertainment' 'Sony Music Entertainment' 'Aqua Plus'\n",
            " 'Excalibur Publishing' 'Hip Interactive' 'Tripwire Interactive'\n",
            " 'DreamCatcher Interactive' 'SCS Software' 'Havas Interactive' 'Sting'\n",
            " 'Idea Factory' 'Telstar' 'U.S. Gold' 'Funsta' 'DreamWorks Interactive'\n",
            " 'Slitherine Software' 'MTO' 'Graffiti' 'Tru Blu Entertainment'\n",
            " 'DHM Interactive' 'Crytek' 'FunSoft' 'Data Design Interactive' 'SPS'\n",
            " 'Moss' 'T&E Soft' 'NDA Productions' 'Bigben Interactive' 'Data East'\n",
            " 'Idea Factory International' 'Time Warner Interactive'\n",
            " 'Gainax Network Systems' 'Daito' 'O3 Entertainment' 'O-Games' 'Gameloft'\n",
            " 'Xicat Interactive' 'Simon & Schuster Interactive' 'Valcon Games'\n",
            " 'PopTop Software' 'TOHO' 'PM Studios' 'Bohemia Interactive'\n",
            " 'Reef Entertainment' '5pb' 'HMH Interactive' 'inXile Entertainment'\n",
            " 'Cave' 'Microids' 'Paon' 'CDV Software Entertainment' 'Micro Cabin'\n",
            " 'GameTek' 'Benesse' 'Type-Moon' 'Enjoy Gaming ltd.' 'Asmik Corp'\n",
            " 'Interplay Productions' 'Asmik Ace Entertainment' 'Image Epoch'\n",
            " 'Phantom EFX' 'Evolved Games' 'responDESIGN' 'Griffin International'\n",
            " 'Culture Publishers' 'Hackberry' 'Hearty Robin' 'Nippon Amuse'\n",
            " 'Origin Systems' 'Seventh Chord' 'Abylight' 'Mitsui' 'Insomniac Games'\n",
            " 'Flight-Plan' 'Milestone' 'Glams' 'Aksys Games' 'Locus' 'Warp'\n",
            " 'Irem Software Engineering' 'Myelin Media' 'Global A Entertainment'\n",
            " 'Alternative Software' 'Mercury Games' 'Sunrise Interactive' 'Elite'\n",
            " 'Evolution Games' 'Daedalic Entertainment' 'Edia' 'Athena' 'Aria'\n",
            " 'Tivola' 'Happinet' 'Tommo' 'Altron' 'Revolution Software' 'Media Works'\n",
            " 'Fortyfive' 'Gamecock' 'Imax' '10TACLE Studios' 'Groove Games'\n",
            " 'Pack-In-Video' 'Crimson Cow' 'iWin' 'Asgard' 'Ecole' 'Yumedia'\n",
            " 'Ascaron Entertainment GmbH' 'HAL Laboratory' 'Phenomedia'\n",
            " 'Grand Prix Games' 'DigiCube' 'Creative Core' 'Kaga Create'\n",
            " 'WayForward Technologies' 'LSP Games' 'ASCII Media Works' '1C Company'\n",
            " 'Coconuts Japan' 'Arika' 'Marvel Entertainment' 'Ertain' 'Prototype'\n",
            " 'Phantagram' 'The Learning Company' 'TechnoSoft' 'MLB.com' 'Vap' 'Misawa'\n",
            " 'Yeti' 'Dusenberry Martin Racing' 'Navarre Corp' 'Pow' 'MediaQuest'\n",
            " 'Team17 Software' 'Max Five' 'Tradewest' 'Comfort' 'Milestone S.r.l'\n",
            " 'Pony Canyon' 'Riverhillsoft' 'Summitsoft' 'Playmore' 'Kool Kizz'\n",
            " 'Monte Christo Multimedia' 'TopWare Interactive' 'Legacy Interactive'\n",
            " 'Cloud Imperium Games Corporation' 'Flashpoint Games' 'CyberFront'\n",
            " 'Alawar Entertainment' 'Societa' 'Interchannel' 'Experience Inc.'\n",
            " 'Sonnet' 'Virtual Play Games' 'Zenrin' 'Iceberg Interactive' 'Ivolgamus'\n",
            " 'MC2 Entertainment' '2D Boy' 'Games Workshop' 'Kando Games'\n",
            " 'Office Create' 'Maximum Family Games' 'Fields' 'Gearbox Software'\n",
            " 'Princess Soft' 'Extreme Entertainment Group' 'Big Fish Games' 'Berkeley'\n",
            " 'Mamba Games' 'Fuji' 'FuRyu Corporation' 'Her Interactive'\n",
            " 'imageepoch Inc.' 'Just Flight' 'Kamui' 'ASK' 'Cygames'\n",
            " 'Introversion Software' '49Games' 'KSS' 'dramatic create' 'TGL' 'KID'\n",
            " 'Quinrose' 'Sold Out' 'Encore' 'G.Rev' 'Sunflowers' 'Headup Games'\n",
            " 'Sweets' 'Kokopeli Digital Studios' 'id Software' 'Nexon' 'BushiRoad'\n",
            " 'Devolver Digital' 'Number None' 'Tryfirst' 'GN Software' \"Yuke's\"\n",
            " 'Strategy First' 'Lexicon Entertainment' 'Paon Corporation'\n",
            " 'Kids Station' 'Licensed 4U' 'GOA' '7G//AMES' 'King Records'\n",
            " 'Minato Station' 'Graphsim Entertainment' 'Easy Interactive' 'Gaga'\n",
            " 'Yamasa Entertainment' 'Plenty' 'Views' 'Blue Byte' 'fonfun' 'NetRevo'\n",
            " 'Epic Games' 'Quintet' 'Focus Multimedia' 'Phoenix Games'\n",
            " 'Marvelous Games' 'Dorart' 'Codemasters Online' 'Stainless Games'\n",
            " 'Aerosoft' 'Imageworks' 'Karin Entertainment' 'Technos Japan Corporation'\n",
            " 'Masque Publishing' 'Gakken' 'New World Computing' 'Mirai Shounen'\n",
            " 'Datam Polystar' 'HuneX' 'Visco' 'Saurus' 'Revolution (Japan)' 'Giza10'\n",
            " 'Alvion' 'Giga' 'Mycom' 'Warashi' 'System Soft' 'RED Entertainment'\n",
            " 'Lighthouse Interactive' 'Michaelsoft' 'Media Entertainment'\n",
            " 'Genterprise' 'Interworks Unlimited, Inc.' 'Inti Creates' 'Boost On'\n",
            " 'EON Digital Entertainment' 'Nitroplus' 'Naxat Soft' 'Piacci'\n",
            " 'Paradox Development' 'Otomate' 'Ascaron Entertainment' 'Ongakukan'\n",
            " 'Commseed' 'UIG Entertainment' 'Takuyo' 'Interchannel-Holon'\n",
            " 'Red Flagship']\n"
          ],
          "name": "stdout"
        }
      ]
    },
    {
      "cell_type": "code",
      "metadata": {
        "colab": {
          "base_uri": "https://localhost:8080/"
        },
        "id": "QJDtTXb-qjfS",
        "outputId": "38c42181-4b83-435c-f725-0d83c28dbab8"
      },
      "source": [
        "joined_dataframe_publisher = pd.concat(publisher_frames)\n",
        "print(joined_dataframe_publisher)\n",
        "publisher_releases = joined_dataframe_publisher.groupby('Publisher_Creator')['Publisher']\n",
        "publisher_releases.head(100)"
      ],
      "execution_count": null,
      "outputs": [
        {
          "output_type": "stream",
          "text": [
            "                 Publisher Publisher_Creator\n",
            "Year_of_Release                             \n",
            "1980-01-01             0.0          Nintendo\n",
            "1981-01-01             0.0          Nintendo\n",
            "1982-01-01             0.0          Nintendo\n",
            "1983-01-01             6.0          Nintendo\n",
            "1984-01-01             9.0          Nintendo\n",
            "...                    ...               ...\n",
            "2015-01-01             0.0      Red Flagship\n",
            "2016-01-01             1.0      Red Flagship\n",
            "2017-01-01             0.0      Red Flagship\n",
            "2018-01-01             0.0      Red Flagship\n",
            "2019-01-01             0.0      Red Flagship\n",
            "\n",
            "[23281 rows x 2 columns]\n"
          ],
          "name": "stdout"
        },
        {
          "output_type": "execute_result",
          "data": {
            "text/plain": [
              "Year_of_Release\n",
              "1980-01-01    0.0\n",
              "1981-01-01    0.0\n",
              "1982-01-01    0.0\n",
              "1983-01-01    6.0\n",
              "1984-01-01    9.0\n",
              "             ... \n",
              "2015-01-01    0.0\n",
              "2016-01-01    1.0\n",
              "2017-01-01    0.0\n",
              "2018-01-01    0.0\n",
              "2019-01-01    0.0\n",
              "Name: Publisher, Length: 23281, dtype: float64"
            ]
          },
          "metadata": {
            "tags": []
          },
          "execution_count": 13
        }
      ]
    },
    {
      "cell_type": "code",
      "metadata": {
        "id": "itQfbD7g44Lr"
      },
      "source": [
        "publisher_releases.plot(legend=True, figsize=(20,20))"
      ],
      "execution_count": null,
      "outputs": []
    },
    {
      "cell_type": "code",
      "metadata": {
        "id": "HzVWDDWJxokC"
      },
      "source": [
        "#Top publishers of releases\n",
        "joined_total_releases_publisher = pd.concat(total_releases_frames)\n",
        "joined_total_releases_publisher.sort_values('Year_of_Release', ascending = False).head(5)"
      ],
      "execution_count": null,
      "outputs": []
    },
    {
      "cell_type": "code",
      "metadata": {
        "id": "XnptFFrDByHY"
      },
      "source": [
        "top_publishers = joined_total_releases_publisher.sort_values('Year_of_Release', ascending = False).head(5).index.values\n",
        "top_publishers_list = []\n",
        "for publisher in top_publishers:\n",
        "  publisher_data = joined_dataframe_publisher[joined_dataframe_publisher.Publisher_Creator == publisher]\n",
        "  top_publishers_list.append(publisher_data)\n",
        "  publisher_data.plot()\n"
      ],
      "execution_count": null,
      "outputs": []
    },
    {
      "cell_type": "code",
      "metadata": {
        "id": "sYoGJ33sF_qK"
      },
      "source": [
        "#Correlacion de Electronic Arts y Activision\n",
        "ea_activision_correlation = np.correlate(top_publishers_list[0]['Publisher'].to_numpy(), top_publishers_list[1]['Publisher'].to_numpy(), mode = 'same')\n",
        "\n",
        "plt.plot(np.arange(40), ea_activision_correlation)"
      ],
      "execution_count": null,
      "outputs": []
    },
    {
      "cell_type": "code",
      "metadata": {
        "id": "QFp4UvW_gMUZ"
      },
      "source": [
        "ea_releases_monthly = signal.resample(top_publishers_list[0]['Publisher'].to_numpy(), 444)\n",
        "activision_releases_monthly = signal.resample(top_publishers_list[1]['Publisher'].to_numpy(), 444)\n",
        "ea_activision_correlation = signal.correlate(activision_releases_monthly, ea_releases_monthly, mode = 'same')\n",
        "ea_activision_correlation /= np.max(ea_activision_correlation)\n",
        "plt.plot(np.arange(444), ea_activision_correlation)"
      ],
      "execution_count": null,
      "outputs": []
    },
    {
      "cell_type": "code",
      "metadata": {
        "id": "B9I0yBcVMfTy"
      },
      "source": [
        "yeargrowth = df3.drop(columns = ['Genre', 'Name', 'Platform', 'NA_Sales', 'EU_Sales', 'JP_Sales','NA_Sales', 'Other_Sales', 'Critic_Score', 'Critic_Count', 'User_Score', 'User_Count', 'Developer', 'Rating'])\n",
        "yeargrowth = yeargrowth.rename(columns={'Year_of_Release':'Year'})\n",
        "yeargrwoth.head()"
      ],
      "execution_count": null,
      "outputs": []
    },
    {
      "cell_type": "code",
      "metadata": {
        "id": "FfqaTyTeQIwa"
      },
      "source": [
        "publisher_sales = yeargrowth.groupby('Publisher').sum()\n",
        "publisher_sales.sort_values('Global_Sales', ascending = False).head(6)"
      ],
      "execution_count": null,
      "outputs": []
    },
    {
      "cell_type": "code",
      "metadata": {
        "id": "fofwQhg9Pe5Q"
      },
      "source": [
        "nintendogrow = yeargrowth[yeargrowth['Publisher'] == 'Nintendo']\n",
        "eagrow = yeargrowth[yeargrowth['Publisher'] == 'Electronic Arts']\n",
        "activisiongrow = yeargrowth[yeargrowth['Publisher'] == 'Activision']\n",
        "sonygrow = yeargrowth[yeargrowth['Publisher'] == 'Sony Computer Entertainment']\n",
        "ubisoftgrow = yeargrowth[yeargrowth['Publisher'] == 'Ubisoft']\n",
        "taketwogrow = yeargrowth[yeargrowth['Publisher'] == 'Take-Two Interactive']\n",
        "\n",
        "fig, ax = plt.subplots(3, 2, figsize=(20,20))\n",
        "\n",
        "nintendogrow = nintendogrow.groupby('Year').sum()\n",
        "eagrow = eagrow.groupby('Year').sum()\n",
        "activisiongrow = activisiongrow.groupby('Year').sum()\n",
        "sonygrow = sonygrow.groupby('Year').sum()\n",
        "ubisoftgrow = ubisoftgrow.groupby('Year').sum()\n",
        "taketwogrow = taketwogrow.groupby('Year').sum()\n",
        "\n",
        "ax[0,0].plot(nintendogrow)\n",
        "ax[0,0].set_title('Nintendo Sales Growth')\n",
        "\n",
        "ax[0,1].plot(eagrow)\n",
        "ax[0,1].set_title('EA Sales Growth')\n",
        "\n",
        "ax[1,0].plot(activisiongrow)\n",
        "ax[1,0].set_title('Activision Sales Growth')\n",
        "\n",
        "ax[1,1].plot(sonygrow)\n",
        "ax[1,1].set_title('Sony Sales Growth')\n",
        "\n",
        "ax[2,0].plot(ubisoftgrow)\n",
        "ax[2,0].set_title('Ubisoft Sales Growth')\n",
        "\n",
        "ax[2,1].plot(taketwogrow)\n",
        "ax[2,1].set_title('Take-Two Interactive Growth')\n"
      ],
      "execution_count": null,
      "outputs": []
    },
    {
      "cell_type": "code",
      "metadata": {
        "id": "GyJ0TodOQFT3"
      },
      "source": [
        "ea_publisheds = joined_dataframe_publisher[joined_dataframe_publisher['Publisher_Creator'] == 'Electronic Arts']\n",
        "ea_publisheds[ea_publisheds['Publisher'] != 0].plot()\n",
        "eagrow.plot()"
      ],
      "execution_count": null,
      "outputs": []
    },
    {
      "cell_type": "code",
      "metadata": {
        "id": "Ek40ZKt5Wcri"
      },
      "source": [
        "year_genre = df3.drop(columns = ['Publisher', 'Name', 'Platform', 'NA_Sales', 'EU_Sales', 'JP_Sales','NA_Sales', 'Other_Sales', 'Critic_Score', 'Critic_Count', 'User_Score', 'User_Count', 'Developer', 'Rating'])\n",
        "year_genre = year_genre.rename(columns={'Year_of_Release':'Year'})\n",
        "year_genre_growth = year_genre.groupby(['Genre', 'Year']).sum()\n",
        "year_genre_growth.unstack(level=0).plot(kind='line', figsize = (20, 20))\n"
      ],
      "execution_count": null,
      "outputs": []
    },
    {
      "cell_type": "code",
      "metadata": {
        "id": "-LGB9xwgtXFB"
      },
      "source": [
        "year_sales = df3.drop(columns = ['Publisher', 'Genre', 'Name', 'Platform', 'NA_Sales', 'EU_Sales', 'JP_Sales','NA_Sales', 'Other_Sales', 'Critic_Score', 'Critic_Count', 'User_Score', 'User_Count', 'Developer', 'Rating'])\n",
        "year_sales = year_sales.rename(columns={'Year_of_Release':'Year'})\n",
        "year_sales_growth = year_sales.groupby('Year').sum()\n",
        "year_sales_growth.plot(kind='line', figsize = (15, 15))"
      ],
      "execution_count": null,
      "outputs": []
    },
    {
      "cell_type": "code",
      "metadata": {
        "id": "TqcGomzQohSg"
      },
      "source": [
        "three_year_rolling_sales = year_sales_growth.rolling('1095D').sum()\n",
        "three_year_rolling_sales.plot()"
      ],
      "execution_count": null,
      "outputs": []
    }
  ]
}